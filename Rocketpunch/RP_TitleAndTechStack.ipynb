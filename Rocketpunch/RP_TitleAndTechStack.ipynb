{
 "cells": [
  {
   "cell_type": "code",
   "execution_count": 4,
   "metadata": {},
   "outputs": [],
   "source": [
    "from urllib.parse import quote_plus \n",
    "from selenium import webdriver\n",
    "from selenium.webdriver.common.by import By\n",
    "import pandas as pd\n",
    "\n",
    "import time\n",
    "\n",
    "chromedriver = \"./chromedriver.exe\"\n",
    "url = \"https://www.rocketpunch.com/jobs?job=1\"\n",
    "TechStacks = []\n",
    "TSdict = {}\n",
    "\n",
    "options = webdriver.ChromeOptions()\n",
    "options.add_experimental_option(\"excludeSwitches\", [\"enable-logging\"])\n",
    "driver = webdriver.Chrome(chromedriver, options=options)\n",
    "\n",
    "driver.get(url)\n",
    "time.sleep(3)\n",
    "\n",
    "page_num = driver.find_element(By.CLASS_NAME, 'tablet.computer.large.screen.widescreen.only')\n",
    "page_num = page_num.find_elements(By.CLASS_NAME, 'item')[-1].text\n",
    "for i in range(1, int(page_num)):\n",
    "    driver.get(url+\"&page=\"+str(i))\n",
    "    time.sleep(1)\n",
    "    recruitments = driver.find_elements(By.CLASS_NAME, 'nowrap.job-title.primary.link')\n",
    "    recruitment_url = []\n",
    "    for recruitment in recruitments:\n",
    "        recruitment_url.append(recruitment.get_attribute('href'))\n",
    "    for rec_url in recruitment_url:\n",
    "        driver.get(rec_url)\n",
    "        title = driver.find_element(By.CLASS_NAME, \"nowrap.job-title\").text\n",
    "        tech_stack_area = driver.find_element(By.CLASS_NAME, \"job-specialties\")\n",
    "        tech_stack = tech_stack_area.find_elements(By.CLASS_NAME, \"ui.circular.basic.label\")\n",
    "        tech_stacks = \"\"\n",
    "        for tech in tech_stack:\n",
    "            tech = tech.text\n",
    "            tech_stacks += (tech + \", \")\n",
    "        TSdict[title] = tech_stacks\n",
    "            \n",
    "        \n",
    "ts = pd.DataFrame(TSdict.values(), TSdict.keys())\n",
    "ts.to_csv(\"Rocketpunch_TitleAndTechStack.csv\")"
   ]
  },
  {
   "cell_type": "code",
   "execution_count": null,
   "metadata": {},
   "outputs": [],
   "source": []
  }
 ],
 "metadata": {
  "kernelspec": {
   "display_name": "Python 3",
   "language": "python",
   "name": "python3"
  },
  "language_info": {
   "codemirror_mode": {
    "name": "ipython",
    "version": 3
   },
   "file_extension": ".py",
   "mimetype": "text/x-python",
   "name": "python",
   "nbconvert_exporter": "python",
   "pygments_lexer": "ipython3",
   "version": "3.8.5"
  }
 },
 "nbformat": 4,
 "nbformat_minor": 4
}
